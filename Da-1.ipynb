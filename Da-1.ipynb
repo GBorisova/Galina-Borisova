{
 "cells": [
  {
   "cell_type": "markdown",
   "metadata": {},
   "source": [
    "# Challenges for week 1\n",
    "\n",
    "Now that we've seen how Python and Jupyter Notebooks work, it's time for you to apply this knowledge. This week has three challenges. Make sure to give it a try and complete all of them. \n",
    "\n",
    "**Some important notes for the challenges:**\n",
    "1. These challenges are a warming up, and help you get ready for class. Make sure to give them a try. If you get an error message, try to troubleshoot it (using Google often helps). If all else fails, go to the next challenge (but make sure to hand it in).\n",
    "2. While we of course like when you get all the answers right, the important thing is to exercise and apply the knowledge. So we will still accept challenges that may not be complete, as long as we see enough effort *for each challenge*. This means that if one of the challenges is not delivered (not started and no attempt shown), we unfortunately will not be able to provide a grade for that week.\n",
    "3. Delivering the challenge to the right place is a critical part of the challenge. This means we will only be able to grade and accept challenges that are live on your own private GitHub repository (so with a link starting with https://github.com/uva-cw-digitalanalytics/1920s2-) **and** delivered on time as a Canvas assignment. Watch the videos on Canvas on how to hand in your challenges.\n",
    "\n",
    "### Facing issues? \n",
    "\n",
    "We are constantly monitoring the issues on the GitHub general repository (https://github.com/uva-cw-digitalanalytics/1920s2/issues) to help you out. Don't hesitate to log an issue there, explaining well what the problem is, showing the code you are using, and the error message you may be receiving. \n",
    "\n",
    "**Important:** We are only monitoring the repository in weekdays, and until 17.00. Issues logged after this time will most likely be answered the next day. This means you should now wait for our response before submitting a challenge :-)\n",
    "\n",
    "\n",
    "## Challenge 1\n",
    "\n",
    "Check out how to add an image and a link in a cell in MarkDown. You may need to search this online. Check how to do it, and include an image and a link in your notebook."
   ]
  },
  {
   "cell_type": "markdown",
   "metadata": {},
   "source": [
    "![title](img/M.jpg)\n",
    "#https://www.youtube.com/watch?v=xlD8FIM5biA "
   ]
  },
  {
   "cell_type": "markdown",
   "metadata": {},
   "source": [
    "## Challenge 2\n",
    "\n",
    "Below you have a list of visitors again, and in particular their referral. Create a function that categorizes the visitors according to some interesting set of categories.\n",
    "\n",
    "Please note that a part of the code is already written - with a loop that checks each item in the list. You need to complete the function.\n",
    "\n",
    "\n",
    "\n"
   ]
  },
  {
   "cell_type": "code",
   "execution_count": 16,
   "metadata": {},
   "outputs": [],
   "source": [
    "visitors = ['campaign utx=9902',\n",
    "             'instagram app',\n",
    "             'facebook app',\n",
    "             'campaign utx=1389',\n",
    "             'facebook app',\n",
    "             'google search',\n",
    "             'newsletter',\n",
    "             'facebook app',\n",
    "             'newsletter',\n",
    "             'campaign utx=9902',\n",
    "             'instagram app',\n",
    "             'campaign utx=1389',\n",
    "             'newsletter',\n",
    "             'facebook.com',\n",
    "             'facebook app',\n",
    "             'newsletter',\n",
    "             'google search',\n",
    "             'campaign utx=9902',\n",
    "             'campaign utx=9902',\n",
    "             'instagram app',\n",
    "             'organic',\n",
    "             'instagram app',\n",
    "             'news campaign 9902',\n",
    "             'instagram app',\n",
    "             'facebook app',\n",
    "             'facebook.com',\n",
    "             'campaign utx=9902',\n",
    "             'campaign utx=9902',\n",
    "             'campaign utx=1389',\n",
    "             'campaign utx=1389',\n",
    "             'facebook.com',\n",
    "             'news campaign 9902',\n",
    "             'newsletter',\n",
    "             'instagram app',\n",
    "             'instagram app',\n",
    "             'campaign utx=1389',\n",
    "             'direct',\n",
    "             'facebook.com',\n",
    "             'newsletter',\n",
    "             'direct',\n",
    "             'campaign utx=1389',\n",
    "             'direct',\n",
    "             'organic',\n",
    "             'facebook.com',\n",
    "             'facebook.com',\n",
    "             'facebook app',\n",
    "             'campaign utx=9902',\n",
    "             'google search',\n",
    "             'campaign utx=9902',\n",
    "             'campaign utx=1389']"
   ]
  },
  {
   "cell_type": "code",
   "execution_count": 22,
   "metadata": {},
   "outputs": [
    {
     "name": "stdout",
     "output_type": "stream",
     "text": [
      "[]\n",
      "[]\n",
      "['facebook app']\n",
      "['facebook app']\n",
      "['facebook app', 'facebook app']\n",
      "['facebook app', 'facebook app']\n",
      "['facebook app', 'facebook app']\n",
      "['facebook app', 'facebook app', 'facebook app']\n",
      "['facebook app', 'facebook app', 'facebook app']\n",
      "['facebook app', 'facebook app', 'facebook app']\n",
      "['facebook app', 'facebook app', 'facebook app']\n",
      "['facebook app', 'facebook app', 'facebook app']\n",
      "['facebook app', 'facebook app', 'facebook app']\n",
      "['facebook app', 'facebook app', 'facebook app', 'facebook.com']\n",
      "['facebook app', 'facebook app', 'facebook app', 'facebook.com', 'facebook app']\n",
      "['facebook app', 'facebook app', 'facebook app', 'facebook.com', 'facebook app']\n",
      "['facebook app', 'facebook app', 'facebook app', 'facebook.com', 'facebook app']\n",
      "['facebook app', 'facebook app', 'facebook app', 'facebook.com', 'facebook app']\n",
      "['facebook app', 'facebook app', 'facebook app', 'facebook.com', 'facebook app']\n",
      "['facebook app', 'facebook app', 'facebook app', 'facebook.com', 'facebook app']\n",
      "['facebook app', 'facebook app', 'facebook app', 'facebook.com', 'facebook app']\n",
      "['facebook app', 'facebook app', 'facebook app', 'facebook.com', 'facebook app']\n",
      "['facebook app', 'facebook app', 'facebook app', 'facebook.com', 'facebook app']\n",
      "['facebook app', 'facebook app', 'facebook app', 'facebook.com', 'facebook app']\n",
      "['facebook app', 'facebook app', 'facebook app', 'facebook.com', 'facebook app', 'facebook app']\n",
      "['facebook app', 'facebook app', 'facebook app', 'facebook.com', 'facebook app', 'facebook app', 'facebook.com']\n",
      "['facebook app', 'facebook app', 'facebook app', 'facebook.com', 'facebook app', 'facebook app', 'facebook.com']\n",
      "['facebook app', 'facebook app', 'facebook app', 'facebook.com', 'facebook app', 'facebook app', 'facebook.com']\n",
      "['facebook app', 'facebook app', 'facebook app', 'facebook.com', 'facebook app', 'facebook app', 'facebook.com']\n",
      "['facebook app', 'facebook app', 'facebook app', 'facebook.com', 'facebook app', 'facebook app', 'facebook.com']\n",
      "['facebook app', 'facebook app', 'facebook app', 'facebook.com', 'facebook app', 'facebook app', 'facebook.com', 'facebook.com']\n",
      "['facebook app', 'facebook app', 'facebook app', 'facebook.com', 'facebook app', 'facebook app', 'facebook.com', 'facebook.com']\n",
      "['facebook app', 'facebook app', 'facebook app', 'facebook.com', 'facebook app', 'facebook app', 'facebook.com', 'facebook.com']\n",
      "['facebook app', 'facebook app', 'facebook app', 'facebook.com', 'facebook app', 'facebook app', 'facebook.com', 'facebook.com']\n",
      "['facebook app', 'facebook app', 'facebook app', 'facebook.com', 'facebook app', 'facebook app', 'facebook.com', 'facebook.com']\n",
      "['facebook app', 'facebook app', 'facebook app', 'facebook.com', 'facebook app', 'facebook app', 'facebook.com', 'facebook.com']\n",
      "['facebook app', 'facebook app', 'facebook app', 'facebook.com', 'facebook app', 'facebook app', 'facebook.com', 'facebook.com']\n",
      "['facebook app', 'facebook app', 'facebook app', 'facebook.com', 'facebook app', 'facebook app', 'facebook.com', 'facebook.com', 'facebook.com']\n",
      "['facebook app', 'facebook app', 'facebook app', 'facebook.com', 'facebook app', 'facebook app', 'facebook.com', 'facebook.com', 'facebook.com']\n",
      "['facebook app', 'facebook app', 'facebook app', 'facebook.com', 'facebook app', 'facebook app', 'facebook.com', 'facebook.com', 'facebook.com']\n",
      "['facebook app', 'facebook app', 'facebook app', 'facebook.com', 'facebook app', 'facebook app', 'facebook.com', 'facebook.com', 'facebook.com']\n",
      "['facebook app', 'facebook app', 'facebook app', 'facebook.com', 'facebook app', 'facebook app', 'facebook.com', 'facebook.com', 'facebook.com']\n",
      "['facebook app', 'facebook app', 'facebook app', 'facebook.com', 'facebook app', 'facebook app', 'facebook.com', 'facebook.com', 'facebook.com']\n",
      "['facebook app', 'facebook app', 'facebook app', 'facebook.com', 'facebook app', 'facebook app', 'facebook.com', 'facebook.com', 'facebook.com', 'facebook.com']\n",
      "['facebook app', 'facebook app', 'facebook app', 'facebook.com', 'facebook app', 'facebook app', 'facebook.com', 'facebook.com', 'facebook.com', 'facebook.com', 'facebook.com']\n",
      "['facebook app', 'facebook app', 'facebook app', 'facebook.com', 'facebook app', 'facebook app', 'facebook.com', 'facebook.com', 'facebook.com', 'facebook.com', 'facebook.com', 'facebook app']\n",
      "['facebook app', 'facebook app', 'facebook app', 'facebook.com', 'facebook app', 'facebook app', 'facebook.com', 'facebook.com', 'facebook.com', 'facebook.com', 'facebook.com', 'facebook app']\n",
      "['facebook app', 'facebook app', 'facebook app', 'facebook.com', 'facebook app', 'facebook app', 'facebook.com', 'facebook.com', 'facebook.com', 'facebook.com', 'facebook.com', 'facebook app']\n",
      "['facebook app', 'facebook app', 'facebook app', 'facebook.com', 'facebook app', 'facebook app', 'facebook.com', 'facebook.com', 'facebook.com', 'facebook.com', 'facebook.com', 'facebook app']\n",
      "['facebook app', 'facebook app', 'facebook app', 'facebook.com', 'facebook app', 'facebook app', 'facebook.com', 'facebook.com', 'facebook.com', 'facebook.com', 'facebook.com', 'facebook app']\n"
     ]
    }
   ],
   "source": [
    "#Let's start from the creating the category for the social media\n",
    "sm=list()\n",
    "#camp=list()\n",
    "#others=list()\n",
    "for visitor in visitors:\n",
    "#def check_visitors(x):\n",
    "    # Include your code here. Make sure to include something after return, \n",
    "    # so the function returns the information needed.\n",
    "    if visitor.startswith('facebook'):\n",
    "        sm.append(visitor)\n",
    "    print(sm)\n",
    "    #return x\n"
   ]
  },
  {
   "cell_type": "code",
   "execution_count": 7,
   "metadata": {},
   "outputs": [
    {
     "name": "stdout",
     "output_type": "stream",
     "text": [
      "campaign utx=9902\n",
      "instagram app\n",
      "facebook app\n",
      "campaign utx=1389\n",
      "facebook app\n",
      "google search\n",
      "newsletter\n",
      "facebook app\n",
      "newsletter\n",
      "campaign utx=9902\n",
      "instagram app\n",
      "campaign utx=1389\n",
      "newsletter\n",
      "facebook.com\n",
      "facebook app\n",
      "newsletter\n",
      "google search\n",
      "campaign utx=9902\n",
      "campaign utx=9902\n",
      "instagram app\n",
      "organic\n",
      "instagram app\n",
      "news campaign 9902\n",
      "instagram app\n",
      "facebook app\n",
      "facebook.com\n",
      "campaign utx=9902\n",
      "campaign utx=9902\n",
      "campaign utx=1389\n",
      "campaign utx=1389\n",
      "facebook.com\n",
      "news campaign 9902\n",
      "newsletter\n",
      "instagram app\n",
      "instagram app\n",
      "campaign utx=1389\n",
      "direct\n",
      "facebook.com\n",
      "newsletter\n",
      "direct\n",
      "campaign utx=1389\n",
      "direct\n",
      "organic\n",
      "facebook.com\n",
      "facebook.com\n",
      "facebook app\n",
      "campaign utx=9902\n",
      "google search\n",
      "campaign utx=9902\n",
      "campaign utx=1389\n"
     ]
    }
   ],
   "source": [
    "# Run this cell to see if your code worked\n",
    "for visitor in visitors:\n",
    "    print(check_visitors(visitor))"
   ]
  },
  {
   "cell_type": "markdown",
   "metadata": {},
   "source": [
    "## Challenge 3\n",
    "\n",
    "This is the most important challenge of this tutorial, as we will use the concepts here to think how to organize our (digital) data. The paragraph below contains a lot of information. How would you organize this data in a way that you can visualize and work with it later? Consider using lists, dictionaries, tuples... or whatever makes sense to you! \n",
    "\n",
    "Please explain why you decided to do what you did.\n",
    "\n",
    "\n",
    "```\n",
    "John Smith is 32 years old, is an analyst at Salesforce UK,\n",
    "and is father to a young boy. He is divorced. \n",
    "Mary Smith is 21 years old, currently studies at the\n",
    "University of Amsterdam, and was born in the US. \n",
    "Tom Brokaw is a US journalist, born in 1940, \n",
    "married with three children.\n",
    "```\n",
    "\n"
   ]
  },
  {
   "cell_type": "code",
   "execution_count": 27,
   "metadata": {},
   "outputs": [
    {
     "name": "stdout",
     "output_type": "stream",
     "text": [
      "[['John Smith is 32 years old', ' is an analyst at Salesforce UK', ''], ['and is father to a young boy. He is divorced.'], ['Mary Smith is 21 years old', ' currently studies at the'], ['University of Amsterdam', ' and was born in the US.'], ['Tom Brokaw is a US journalist', ' born in 1940', ''], ['married with three children.']]\n"
     ]
    }
   ],
   "source": [
    "fhand=open('Smith.txt')\n",
    "l = []\n",
    "for line in fhand:\n",
    "    l.append(line.rstrip().split(','))\n",
    "print(l)"
   ]
  },
  {
   "cell_type": "code",
   "execution_count": null,
   "metadata": {},
   "outputs": [],
   "source": []
  }
 ],
 "metadata": {
  "kernelspec": {
   "display_name": "Python 3",
   "language": "python",
   "name": "python3"
  },
  "language_info": {
   "codemirror_mode": {
    "name": "ipython",
    "version": 3
   },
   "file_extension": ".py",
   "mimetype": "text/x-python",
   "name": "python",
   "nbconvert_exporter": "python",
   "pygments_lexer": "ipython3",
   "version": "3.7.4"
  }
 },
 "nbformat": 4,
 "nbformat_minor": 4
}
